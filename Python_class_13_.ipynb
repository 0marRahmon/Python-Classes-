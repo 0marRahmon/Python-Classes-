{
  "nbformat": 4,
  "nbformat_minor": 0,
  "metadata": {
    "colab": {
      "provenance": [],
      "authorship_tag": "ABX9TyM3nCvROTROkGkLWjWSxEhn",
      "include_colab_link": true
    },
    "kernelspec": {
      "name": "python3",
      "display_name": "Python 3"
    },
    "language_info": {
      "name": "python"
    }
  },
  "cells": [
    {
      "cell_type": "markdown",
      "metadata": {
        "id": "view-in-github",
        "colab_type": "text"
      },
      "source": [
        "<a href=\"https://colab.research.google.com/github/0marRahmon/Python-Classes-/blob/main/Python_class_13_.ipynb\" target=\"_parent\"><img src=\"https://colab.research.google.com/assets/colab-badge.svg\" alt=\"Open In Colab\"/></a>"
      ]
    },
    {
      "cell_type": "code",
      "execution_count": null,
      "metadata": {
        "id": "N8tCKyVS3Ya6"
      },
      "outputs": [],
      "source": [
        "#OOPS --> Object oriented programming language \n",
        "#few fundamental concepts \n",
        "#class\n",
        "#object \n",
        "#inheritence \n",
        "#encapsulation \n",
        "#polymorphism \n"
      ]
    },
    {
      "cell_type": "code",
      "source": [
        "class fitness():\n",
        "  #atribute--> is a variable that can be defined inside a class and are shared by  all the objects in the class \n",
        "  goal=\"muscle mass\"\n",
        "  weight=\"73 Kg\"\n",
        "  how=\"boxing or gym\"\n",
        "#Instance attribute--> is a variable that belongs to only one object \n",
        "  def __init__(self,BodyPart):\n",
        "    self.BodyPart=BodyPart\n",
        "#Inheritence--> Mostly relating to inhereting the properties of the parent class(in this example class fitness())\n",
        "class heartrate(fitness):\n",
        "  def __init__(self,BodyPart,heartrate):\n",
        "    self.heartrate=heartrate\n",
        "    super().__init__(BodyPart)\n"
      ],
      "metadata": {
        "id": "sXU80A318_fR"
      },
      "execution_count": null,
      "outputs": []
    },
    {
      "cell_type": "code",
      "source": [
        "object1=fitness(\"Chest\")\n",
        "object2=fitness(\"Arms\")\n",
        "object3=fitness(\"Abs\")\n",
        "object4=fitness(\"Legs\")\n",
        "object5=fitness(\"Shoulder\")\n",
        "object5.goal=\"muscle mass\"\n",
        "print(object1.goal)\n",
        "print(object2.weight)\n",
        "print(object3.how)\n",
        "print(object1.BodyPart)\n",
        "print(object2.BodyPart)\n",
        "print(object4.goal)\n",
        "print(object5.goal)\n",
        "#Here any name can be given to the variable object is something that i chose \n",
        "#When i change the objects using the class the entire class the changes go to \n",
        "#for example if i repeat goal twice the change i made to the entire goal in the class \"Fitness.goal\"would change for both the goals present \n",
        "#But when i try the same thing with the objects by changing one of the objects it only changes that particular object and not the entire class"
      ],
      "metadata": {
        "colab": {
          "base_uri": "https://localhost:8080/"
        },
        "id": "DR5xw0l79kpO",
        "outputId": "795eaff0-4786-413d-e94f-81707ae3d93f"
      },
      "execution_count": null,
      "outputs": [
        {
          "output_type": "stream",
          "name": "stdout",
          "text": [
            "muscle mass\n",
            "73 Kg\n",
            "boxing or gym\n",
            "Chest\n",
            "Arms\n",
            "muscle mass\n",
            "muscle mass\n"
          ]
        }
      ]
    },
    {
      "cell_type": "code",
      "source": [
        "object1=heartrate(\"chest\",\"25beats\")\n",
        "print(object1.BodyPart)\n",
        "print(object1.heartrate)"
      ],
      "metadata": {
        "id": "xd1m6cqDEsVu",
        "colab": {
          "base_uri": "https://localhost:8080/"
        },
        "outputId": "a5c4ba19-40d7-4f43-8e06-53ca25f3efe7"
      },
      "execution_count": null,
      "outputs": [
        {
          "output_type": "stream",
          "name": "stdout",
          "text": [
            "chest\n",
            "25beats\n"
          ]
        }
      ]
    },
    {
      "cell_type": "code",
      "source": [
        "class Fitness:\n",
        "    # Attribute --> is a variable that can be defined inside a class and is shared by all the objects in the class.\n",
        "    goal = \"muscle mass\"\n",
        "    weight = \"73 Kg\"\n",
        "    how = \"boxing or gym\"\n",
        "\n",
        "    # Instance attribute --> is a variable that belongs to only one object.\n",
        "    def __init__(self, BodyPart):\n",
        "        self.BodyPart = BodyPart\n",
        "\n",
        "# Inheritance --> Mostly related to inheriting the properties of the parent class (in this example class Fitness).\n",
        "class HeartRate(Fitness):\n",
        "    def __init__(self, BodyPart, heart_rate):\n",
        "        self.heart_rate = heart_rate\n",
        "        super().__init__(BodyPart)\n",
        "\n",
        "object1 = HeartRate(\"Chest\", \"25 beats\")\n",
        "print(object1.BodyPart)\n",
        "print(object1.heart_rate)\n"
      ],
      "metadata": {
        "colab": {
          "base_uri": "https://localhost:8080/"
        },
        "id": "bppSmj4gX9oI",
        "outputId": "5500e48b-c058-447c-c2cf-8273f4a6f839"
      },
      "execution_count": null,
      "outputs": [
        {
          "output_type": "stream",
          "name": "stdout",
          "text": [
            "Chest\n",
            "25 beats\n"
          ]
        }
      ]
    },
    {
      "cell_type": "code",
      "source": [
        "#Encapsulation--> going to hide data or bundle datas inside one single unit\n",
        "#Used when we don't want others to acess data through direct methods\n",
        "#Teo methods used - public and private \n",
        "#Public method is normally what we use when we all can acess the data with normal print we can see the data \n",
        "#Private method is used when we hide the data and it can only be seen using a special method used \n",
        "class data():\n",
        "  def __init__(a,Username,Password):\n",
        "    a.Username=Username\n",
        "    a.__Password=Password\n",
        "  def access(a):\n",
        "    print(a.__Password)"
      ],
      "metadata": {
        "id": "kbdMTtmOYTIv"
      },
      "execution_count": 15,
      "outputs": []
    },
    {
      "cell_type": "code",
      "source": [
        "obj=data(\"Admin\",\"pass123\")\n",
        "print(obj.Username)\n",
        "obj.access()\n",
        "#In this method the Password can be seen using normal methods so now we will use __ to create encapsulatiom"
      ],
      "metadata": {
        "colab": {
          "base_uri": "https://localhost:8080/"
        },
        "id": "SvMlymU5XNs6",
        "outputId": "cf82c445-b6a0-4087-d090-b90918f87982"
      },
      "execution_count": 16,
      "outputs": [
        {
          "output_type": "stream",
          "name": "stdout",
          "text": [
            "Admin\n",
            "pass123\n"
          ]
        }
      ]
    },
    {
      "cell_type": "code",
      "source": [
        "#Polymorphism --> Many different shades, forms. It is representing the existiing method of a class in a different form so that it fits best with teh subclass \n",
        "class Bird():\n",
        "  def intro(a):\n",
        "    print(\"There are different types of birds\")\n",
        "  def fly(a):\n",
        "    print(\"Most of the birds cannot fly\")\n"
      ],
      "metadata": {
        "id": "YzTV9qKceo5-"
      },
      "execution_count": 23,
      "outputs": []
    },
    {
      "cell_type": "code",
      "source": [
        "class Parrot(Bird):\n",
        "  def fly(a):\n",
        "   print(\"Parrot can fly\")\n",
        "class Penguin(Bird):\n",
        "  def fly(a):\n",
        "    print(\"Penguin cannot fly\")"
      ],
      "metadata": {
        "id": "Wo2ssonCiKEJ"
      },
      "execution_count": 26,
      "outputs": []
    },
    {
      "cell_type": "code",
      "source": [
        "o1=Bird()\n",
        "o2=Parrot()\n",
        "o3=Penguin()\n",
        "o1.intro()\n",
        "o1.fly()\n",
        "o2.fly()\n",
        "o3.fly()"
      ],
      "metadata": {
        "colab": {
          "base_uri": "https://localhost:8080/"
        },
        "id": "hNfEsh3QiiQp",
        "outputId": "9fb81874-fc8a-4700-a6c5-3359f4744269"
      },
      "execution_count": 30,
      "outputs": [
        {
          "output_type": "stream",
          "name": "stdout",
          "text": [
            "There are different types of birds\n",
            "Most of the birds cannot fly\n",
            "Parrot can fly\n",
            "Penguin cannot fly\n"
          ]
        }
      ]
    }
  ]
}