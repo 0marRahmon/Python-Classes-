{
  "nbformat": 4,
  "nbformat_minor": 0,
  "metadata": {
    "colab": {
      "provenance": [],
      "authorship_tag": "ABX9TyMchJlS1WMahmDZBTVyqqja",
      "include_colab_link": true
    },
    "kernelspec": {
      "name": "python3",
      "display_name": "Python 3"
    },
    "language_info": {
      "name": "python"
    }
  },
  "cells": [
    {
      "cell_type": "markdown",
      "metadata": {
        "id": "view-in-github",
        "colab_type": "text"
      },
      "source": [
        "<a href=\"https://colab.research.google.com/github/0marRahmon/Python-Classes-/blob/main/Python_class_7.ipynb\" target=\"_parent\"><img src=\"https://colab.research.google.com/assets/colab-badge.svg\" alt=\"Open In Colab\"/></a>"
      ]
    },
    {
      "cell_type": "code",
      "execution_count": 1,
      "metadata": {
        "colab": {
          "base_uri": "https://localhost:8080/"
        },
        "id": "pPKkYBThlDnv",
        "outputId": "7e60beea-cd0d-4f60-9cb4-781b29cd2a2f"
      },
      "outputs": [
        {
          "output_type": "stream",
          "name": "stdout",
          "text": [
            "0\n",
            "1\n",
            "2\n",
            "3\n",
            "4\n"
          ]
        }
      ],
      "source": [
        "a=5\n",
        "for x in range(0,a):\n",
        " print(x)"
      ]
    },
    {
      "cell_type": "code",
      "source": [
        "for z in range (1,11):\n",
        "  print(z)"
      ],
      "metadata": {
        "colab": {
          "base_uri": "https://localhost:8080/"
        },
        "id": "eMOoXkbQ0BBW",
        "outputId": "84c30ccc-4a1a-4bf9-9263-8dab295bbbd6"
      },
      "execution_count": 3,
      "outputs": [
        {
          "output_type": "stream",
          "name": "stdout",
          "text": [
            "1\n",
            "2\n",
            "3\n",
            "4\n",
            "5\n",
            "6\n",
            "7\n",
            "8\n",
            "9\n",
            "10\n"
          ]
        }
      ]
    },
    {
      "cell_type": "code",
      "source": [
        "A=int(input(\"Enter the range\"))\n",
        "for a in range(1,A+1):\n",
        "  print(a)\n"
      ],
      "metadata": {
        "colab": {
          "base_uri": "https://localhost:8080/"
        },
        "id": "p22vHIWO02zs",
        "outputId": "56b78c82-6bec-4d34-fabb-445ecc252089"
      },
      "execution_count": 41,
      "outputs": [
        {
          "output_type": "stream",
          "name": "stdout",
          "text": [
            "Enter the range 10\n",
            "1\n",
            "2\n",
            "3\n",
            "4\n",
            "5\n",
            "6\n",
            "7\n",
            "8\n",
            "9\n",
            "10\n"
          ]
        }
      ]
    },
    {
      "cell_type": "code",
      "source": [
        "def a(num1,num2):\n",
        "  for B in range(5):\n",
        "    print(\"The sum of two vaues are\",num1+num2)\n",
        "a(10,20)"
      ],
      "metadata": {
        "colab": {
          "base_uri": "https://localhost:8080/"
        },
        "id": "BDnse9V750a1",
        "outputId": "8e2a97ac-09c9-4c16-fa2e-74ae10b77ffb"
      },
      "execution_count": 44,
      "outputs": [
        {
          "output_type": "stream",
          "name": "stdout",
          "text": [
            "The sum of two vaues are 30\n",
            "The sum of two vaues are 30\n",
            "The sum of two vaues are 30\n",
            "The sum of two vaues are 30\n",
            "The sum of two vaues are 30\n"
          ]
        }
      ]
    },
    {
      "cell_type": "code",
      "source": [
        "def a():\n",
        "  A=int(input(\"First value\"))\n",
        "  B=int(input(\"Second value\"))\n",
        "  print(\"Sum is\",(A+B),\"\\ndifference is\",(A-B),\"\\nproduct is\",(A*B))\n",
        "a()"
      ],
      "metadata": {
        "colab": {
          "base_uri": "https://localhost:8080/"
        },
        "id": "XGH4ymoO8WkO",
        "outputId": "738971c7-29d0-4335-e9ac-3e7b845f658b"
      },
      "execution_count": 56,
      "outputs": [
        {
          "output_type": "stream",
          "name": "stdout",
          "text": [
            "First value 10\n",
            "Second value 10\n",
            "Sum is 20 \n",
            "difference is 0 \n",
            "product is 100\n"
          ]
        }
      ]
    },
    {
      "cell_type": "code",
      "source": [
        "''' BIG DOUBT'''\n",
        "def a():\n",
        "  for x in range(2,10,3):\n",
        "    print(\"Dictionary\")\n",
        "a()"
      ],
      "metadata": {
        "colab": {
          "base_uri": "https://localhost:8080/"
        },
        "id": "DaFkFA1J_Nbm",
        "outputId": "d717b3d2-eda0-4692-b316-c11d390427fc"
      },
      "execution_count": 73,
      "outputs": [
        {
          "output_type": "stream",
          "name": "stdout",
          "text": [
            "Dictionary\n",
            "Dictionary\n",
            "Dictionary\n"
          ]
        }
      ]
    },
    {
      "cell_type": "code",
      "source": [
        "#Usin if else and elif \n",
        "if (100<50):\n",
        "  print(\"first no. is greater\")\n",
        "elif(50<100):\n",
        "  print(\"Second no. is greater\")\n",
        "elif(25==25):\n",
        "  print(\"both no. is equal\")\n",
        "else:\n",
        "  print(\"No no. is less or more\")"
      ],
      "metadata": {
        "colab": {
          "base_uri": "https://localhost:8080/"
        },
        "id": "pDpF4oXfBcee",
        "outputId": "32bbd569-9d70-4792-9bfe-ac6683aac354"
      },
      "execution_count": 74,
      "outputs": [
        {
          "output_type": "stream",
          "name": "stdout",
          "text": [
            "Second no. is greater\n"
          ]
        }
      ]
    },
    {
      "cell_type": "code",
      "source": [
        "#Using if else elif \n",
        "if (100<50):\n",
        "  print(\"first no. is greater\")\n",
        "elif(50<25):\n",
        "  print(\"Second no. is greater\")\n",
        "elif(25==25):\n",
        "  print(\"both no. is equal\")\n",
        "else:\n",
        "  print(\"No no. is less or more\")"
      ],
      "metadata": {
        "colab": {
          "base_uri": "https://localhost:8080/"
        },
        "id": "9jy0hW6oCN7k",
        "outputId": "2eb5cbfc-742f-4e39-b271-a91099a11f73"
      },
      "execution_count": 75,
      "outputs": [
        {
          "output_type": "stream",
          "name": "stdout",
          "text": [
            "both no. is equal\n"
          ]
        }
      ]
    },
    {
      "cell_type": "code",
      "source": [
        "#Using if else elif \n",
        "if (100<50):\n",
        "  print(\"first no. is greater\")\n",
        "elif(50<25):\n",
        "  print(\"Second no. is greater\")\n",
        "elif(25==205):\n",
        "  print(\"both no. is equal\")\n",
        "else:\n",
        "  print(\"No no. is less or more\")"
      ],
      "metadata": {
        "colab": {
          "base_uri": "https://localhost:8080/"
        },
        "id": "jrB4fGxsCTqb",
        "outputId": "9fe16f95-ba4e-47bb-bac5-14dc66fa16bf"
      },
      "execution_count": 76,
      "outputs": [
        {
          "output_type": "stream",
          "name": "stdout",
          "text": [
            "No no. is less or more\n"
          ]
        }
      ]
    },
    {
      "cell_type": "code",
      "source": [
        "#Using boolean with functions with string inputs and not integers input \n",
        "def a():\n",
        "  A=str(input(\"What is your name\"))\n",
        "  if (A ==\"Omar\"):\n",
        "    print(\"Hurray you won\")\n",
        "  else:\n",
        "    print(\"Better luck next time\")\n",
        "a()"
      ],
      "metadata": {
        "colab": {
          "base_uri": "https://localhost:8080/"
        },
        "id": "RzWbeRt8G3CP",
        "outputId": "e94c5cb3-b271-41ec-bc55-1661aa47b671"
      },
      "execution_count": 101,
      "outputs": [
        {
          "output_type": "stream",
          "name": "stdout",
          "text": [
            "What is your nameOmar\n",
            "Hurray you won\n"
          ]
        }
      ]
    },
    {
      "cell_type": "code",
      "source": [
        "#Using the same for lowercase \n",
        "def a():\n",
        "  A = str(input(\"What is your name? \"))\n",
        "  if A.lower() == \"omar\":\n",
        "    print(\"Hurray you won!\")\n",
        "  else:\n",
        "    print(\"Better luck next time.\")\n",
        "\n",
        "a()"
      ],
      "metadata": {
        "colab": {
          "base_uri": "https://localhost:8080/"
        },
        "id": "FEHFW0sDLLsw",
        "outputId": "b4bf77ed-1e34-4c81-cc3f-9a2be02dda3d"
      },
      "execution_count": 96,
      "outputs": [
        {
          "output_type": "stream",
          "name": "stdout",
          "text": [
            "What is your name? omar\n",
            "Hurray you won!\n"
          ]
        }
      ]
    }
  ]
}