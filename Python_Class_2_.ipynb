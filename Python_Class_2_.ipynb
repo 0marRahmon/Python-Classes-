{
  "nbformat": 4,
  "nbformat_minor": 0,
  "metadata": {
    "colab": {
      "provenance": [],
      "authorship_tag": "ABX9TyPiTWFeZdvMm8ujg90tQUkP",
      "include_colab_link": true
    },
    "kernelspec": {
      "name": "python3",
      "display_name": "Python 3"
    },
    "language_info": {
      "name": "python"
    }
  },
  "cells": [
    {
      "cell_type": "markdown",
      "metadata": {
        "id": "view-in-github",
        "colab_type": "text"
      },
      "source": [
        "<a href=\"https://colab.research.google.com/github/0marRahmon/Python-Classes-/blob/main/Python_Class_2_.ipynb\" target=\"_parent\"><img src=\"https://colab.research.google.com/assets/colab-badge.svg\" alt=\"Open In Colab\"/></a>"
      ]
    },
    {
      "cell_type": "code",
      "execution_count": null,
      "metadata": {
        "colab": {
          "base_uri": "https://localhost:8080/"
        },
        "id": "G8fU0sY3Eo9U",
        "outputId": "0ffb3a08-ea6f-400f-d564-890e59695971"
      },
      "outputs": [
        {
          "output_type": "stream",
          "name": "stdout",
          "text": [
            "['Data', 'Stat', 'No', 'Hi', 263]\n",
            "['Data', 'Stat', 'No', 'Hi', 263, 344, 'Hola', 'Sui']\n",
            "['Data', 'Stat', 'No', 'Hi', 263, 344, 'Hola', 'Sui', 'Messi', 34.34]\n",
            "['Goal', 'Tata', 'No', 'Hi', 263, 344, 'Hola', 'Ronaldo', 'Messi', 34.34]\n",
            "['Goal', 23, 'Tata', 'No', 'Hi', 263, 344, 'Hola', 'Ronaldo', 'Messi', 34.34]\n",
            "<class 'list'>\n"
          ]
        }
      ],
      "source": [
        "\n",
        "A=[\"Data\",\"Stat\",\"No\",\"Hi\",263]\n",
        "print(A)\n",
        "#Inserting New Data \n",
        "A.insert(5,344)\n",
        "A.insert(6,\"Hola\")\n",
        "A.insert(7,\"Sui\")\n",
        "print(A)\n",
        "#Append of data \n",
        "A.append(\"Messi\")\n",
        "A.append(34.34)\n",
        "print(A)\n",
        "#Updating of data \n",
        "A[1]=\"Tata\"\n",
        "A[0]=\"Goal\"\n",
        "A[-3]=\"Ronaldo\"\n",
        "print(A)\n",
        "\n",
        "A.insert(1,23)\n",
        "print(A)\n",
        "print(type(A))\n"
      ]
    },
    {
      "cell_type": "code",
      "source": [
        "A=[23,45]\n",
        "print(A)\n",
        "A.insert(1,322)\n",
        "print(A)\n",
        "#How to insert two values at the same time \n",
        "#Using extend \n",
        "B=[23,45,66]\n",
        "A.extend(B)\n",
        "print(A)"
      ],
      "metadata": {
        "colab": {
          "base_uri": "https://localhost:8080/"
        },
        "id": "Zj3K8kO5oSEd",
        "outputId": "a0179495-ecc6-43b6-d9fb-e5041c145bea"
      },
      "execution_count": null,
      "outputs": [
        {
          "output_type": "stream",
          "name": "stdout",
          "text": [
            "[23, 45]\n",
            "[23, 322, 45]\n",
            "[23, 322, 45, 23, 45, 66]\n"
          ]
        }
      ]
    },
    {
      "cell_type": "code",
      "source": [
        "A=[1,2,3,4]\n",
        "B=[5,6,7,8]\n",
        "A.extend(B)\n",
        "#You can use double insertion making use of other variable \n",
        "print(A)\n",
        "A.insert(2,B)\n",
        "print(A)\n",
        "A.pop(-2)\n",
        "print(A)\n",
        "A.pop(0)\n",
        "print(A)\n",
        "A.remove(5)\n",
        "print(A)\n",
        "del A[2]\n",
        "print(A)\n",
        "A.remove(B)\n",
        "print(A)"
      ],
      "metadata": {
        "colab": {
          "base_uri": "https://localhost:8080/"
        },
        "id": "EbqyQHVxq2tZ",
        "outputId": "0e3b5fba-9f33-42d1-efde-c4d33822c047"
      },
      "execution_count": null,
      "outputs": [
        {
          "output_type": "stream",
          "name": "stdout",
          "text": [
            "[1, 2, 3, 4, 5, 6, 7, 8]\n",
            "[1, 2, [5, 6, 7, 8], 3, 4, 5, 6, 7, 8]\n",
            "[1, 2, [5, 6, 7, 8], 3, 4, 5, 6, 8]\n",
            "[2, [5, 6, 7, 8], 3, 4, 5, 6, 8]\n",
            "[2, [5, 6, 7, 8], 3, 4, 6, 8]\n",
            "[2, [5, 6, 7, 8], 4, 6, 8]\n",
            "[2, 4, 6, 8]\n"
          ]
        }
      ]
    },
    {
      "cell_type": "code",
      "source": [
        "x=input(\"Enter a value \")\n",
        "y=input(\"Enter a value\")\n",
        "print(\"the tota value is\",(x+y))"
      ],
      "metadata": {
        "colab": {
          "base_uri": "https://localhost:8080/"
        },
        "id": "ZoilL5pnxrnr",
        "outputId": "e7d43432-54a8-4fd7-ae22-415867f6e1e7"
      },
      "execution_count": null,
      "outputs": [
        {
          "output_type": "stream",
          "name": "stdout",
          "text": [
            "Enter a value 23\n",
            "Enter a value22\n",
            "the tota value is 2322\n"
          ]
        }
      ]
    },
    {
      "cell_type": "code",
      "source": [
        "x=int(input(\"Enter the value\"))\n",
        "y=int(input(\"Enter the value\"))\n",
        "print(\"The final vaue is\",(x+y))"
      ],
      "metadata": {
        "colab": {
          "base_uri": "https://localhost:8080/"
        },
        "id": "0iUVadEszbzv",
        "outputId": "12d314d8-7db1-406e-a9ed-9f2d59d4b927"
      },
      "execution_count": null,
      "outputs": [
        {
          "output_type": "stream",
          "name": "stdout",
          "text": [
            "Enter the value100\n",
            "Enter the value200\n",
            "The final vaue is 300\n"
          ]
        }
      ]
    },
    {
      "cell_type": "code",
      "source": [],
      "metadata": {
        "id": "ZMuUu5ji373E"
      },
      "execution_count": null,
      "outputs": []
    }
  ]
}