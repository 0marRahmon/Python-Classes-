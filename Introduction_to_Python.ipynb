{
  "nbformat": 4,
  "nbformat_minor": 0,
  "metadata": {
    "colab": {
      "provenance": [],
      "authorship_tag": "ABX9TyP/g2Af2gfKRTbK7O/n7hwz",
      "include_colab_link": true
    },
    "kernelspec": {
      "name": "python3",
      "display_name": "Python 3"
    },
    "language_info": {
      "name": "python"
    }
  },
  "cells": [
    {
      "cell_type": "markdown",
      "metadata": {
        "id": "view-in-github",
        "colab_type": "text"
      },
      "source": [
        "<a href=\"https://colab.research.google.com/github/0marRahmon/Python-Classes-/blob/main/Introduction_to_Python.ipynb\" target=\"_parent\"><img src=\"https://colab.research.google.com/assets/colab-badge.svg\" alt=\"Open In Colab\"/></a>"
      ]
    },
    {
      "cell_type": "code",
      "execution_count": null,
      "metadata": {
        "colab": {
          "base_uri": "https://localhost:8080/"
        },
        "id": "BiIRwo80ZVBN",
        "outputId": "fb1b19e4-4c03-40af-df76-e31fdb9aa566"
      },
      "outputs": [
        {
          "output_type": "stream",
          "name": "stdout",
          "text": [
            "I am learning python\n",
            "I wanna be at the top of this world\n"
          ]
        }
      ],
      "source": [
        "B=\"I am learning python\"\n",
        "print(B)\n",
        "'''BISBDVIUSD'''\n",
        "#I am learning Python zzz\n",
        "c='I wanna be at the top of this world'\n",
        "'''nonono'''\n",
        "print(c)"
      ]
    },
    {
      "cell_type": "code",
      "source": [
        "A=10\n",
        "B=10\n",
        "print(A*B)\n",
        "print(type(A))"
      ],
      "metadata": {
        "colab": {
          "base_uri": "https://localhost:8080/"
        },
        "id": "YBrFmFAvfa35",
        "outputId": "6ee24987-6e35-4cc0-da07-ebda210f0268"
      },
      "execution_count": null,
      "outputs": [
        {
          "output_type": "stream",
          "name": "stdout",
          "text": [
            "100\n",
            "<class 'int'>\n"
          ]
        }
      ]
    },
    {
      "cell_type": "code",
      "source": [
        "print(35.5<65)"
      ],
      "metadata": {
        "colab": {
          "base_uri": "https://localhost:8080/"
        },
        "id": "BLtrPZkjfo5w",
        "outputId": "2baa48c4-176d-4cff-9067-3e40b352edc8"
      },
      "execution_count": null,
      "outputs": [
        {
          "output_type": "stream",
          "name": "stdout",
          "text": [
            "True\n"
          ]
        }
      ]
    },
    {
      "cell_type": "code",
      "source": [
        "Aluma=[\"SUI\",\"Messi\",\"Hakimi\",2340,100<87,23!=23]\n",
        "print(Aluma)\n",
        "print(Aluma[0])\n",
        "print(Aluma[1])\n",
        "print(Aluma[2])\n",
        "print(Aluma[3])\n",
        "print(Aluma[4])\n",
        "\n",
        "print(type(Aluma))\n",
        "print(Aluma[-1])\n",
        "print(Aluma[-2])\n",
        "print(Aluma[-3])\n",
        "print(Aluma[-4])\n",
        "print(Aluma[-5])\n"
      ],
      "metadata": {
        "colab": {
          "base_uri": "https://localhost:8080/"
        },
        "id": "v0ScBebolp4G",
        "outputId": "7001ee17-4f09-485b-ec6a-8e88b5d37d87"
      },
      "execution_count": null,
      "outputs": [
        {
          "output_type": "stream",
          "name": "stdout",
          "text": [
            "['SUI', 'Messi', 'Hakimi', 2340, False, False]\n",
            "SUI\n",
            "Messi\n",
            "Hakimi\n",
            "2340\n",
            "False\n",
            "<class 'list'>\n",
            "False\n",
            "False\n",
            "2340\n",
            "Hakimi\n",
            "Messi\n"
          ]
        }
      ]
    }
  ]
}