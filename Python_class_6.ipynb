{
  "nbformat": 4,
  "nbformat_minor": 0,
  "metadata": {
    "colab": {
      "provenance": [],
      "authorship_tag": "ABX9TyNZu3dPIKGCIVmCdygVkWvv",
      "include_colab_link": true
    },
    "kernelspec": {
      "name": "python3",
      "display_name": "Python 3"
    },
    "language_info": {
      "name": "python"
    }
  },
  "cells": [
    {
      "cell_type": "markdown",
      "metadata": {
        "id": "view-in-github",
        "colab_type": "text"
      },
      "source": [
        "<a href=\"https://colab.research.google.com/github/0marRahmon/Python-Classes-/blob/main/Python_class_6.ipynb\" target=\"_parent\"><img src=\"https://colab.research.google.com/assets/colab-badge.svg\" alt=\"Open In Colab\"/></a>"
      ]
    },
    {
      "cell_type": "code",
      "execution_count": 6,
      "metadata": {
        "colab": {
          "base_uri": "https://localhost:8080/"
        },
        "id": "zvgSiHGJGTxh",
        "outputId": "70922734-d3fd-4446-f61d-6bf13bd8058c"
      },
      "outputs": [
        {
          "output_type": "stream",
          "name": "stdout",
          "text": [
            "The goat of football is either Messi or Ronaldo\n"
          ]
        }
      ],
      "source": [
        "#Advance arguements passing \n",
        "#Positional arguement means that the arguement will be passed according to the position of the arguement \n",
        "def A(Word1,Word2):\n",
        "   print(\"The goat of football is either\",Word1,\"or\",Word2)\n",
        "A(\"Messi\",\"Ronaldo\")\n"
      ]
    },
    {
      "cell_type": "code",
      "source": [
        "def A(a,b):\n",
        "  print(\"Addition\",a+b)\n",
        "  print(\"Subtraction\",a-b)\n",
        "  print(\"Multiplication\",a*b)\n",
        "A(20,10)"
      ],
      "metadata": {
        "colab": {
          "base_uri": "https://localhost:8080/"
        },
        "id": "AoxOdpMIIqgX",
        "outputId": "c5da407a-eea4-4df3-985c-5ec81f120d26"
      },
      "execution_count": 7,
      "outputs": [
        {
          "output_type": "stream",
          "name": "stdout",
          "text": [
            "Addition 30\n",
            "Subtraction 10\n",
            "Multiplication 200\n"
          ]
        }
      ]
    },
    {
      "cell_type": "code",
      "source": [
        "#Keyboard arguements\n",
        "def A(Word1=\"Messi\",Word2=\"Ronaldo\"):\n",
        "   print(\"The goat of football is either\",\"\\n\",Word1,\"or\",Word2)\n",
        "A()\n"
      ],
      "metadata": {
        "colab": {
          "base_uri": "https://localhost:8080/"
        },
        "id": "91wpG1YxJinf",
        "outputId": "dfbc19ca-c265-4d19-a09e-ccaddc66970f"
      },
      "execution_count": 14,
      "outputs": [
        {
          "output_type": "stream",
          "name": "stdout",
          "text": [
            "The goat of football is either \n",
            " Messi or Ronaldo\n"
          ]
        }
      ]
    },
    {
      "cell_type": "code",
      "source": [
        "#Iterators - Printing of the data one after another \n",
        "#We use iter or next method \n",
        "A=[1,2,3,4,5,6,]\n",
        "B=iter(A)\n",
        "print(next(B))\n"
      ],
      "metadata": {
        "colab": {
          "base_uri": "https://localhost:8080/"
        },
        "id": "EHZgCekxXaqy",
        "outputId": "6e3e2d3e-f922-41c3-e374-ebf99ff0e535"
      },
      "execution_count": 17,
      "outputs": [
        {
          "output_type": "stream",
          "name": "stdout",
          "text": [
            "1\n"
          ]
        }
      ]
    },
    {
      "cell_type": "code",
      "source": [
        "#Sequence \n",
        "A=[1,2,3,4,5,6,]\n",
        "print(\"Data\"in A )\n",
        "print(2 in A)"
      ],
      "metadata": {
        "colab": {
          "base_uri": "https://localhost:8080/"
        },
        "id": "1VuPizVwbxQc",
        "outputId": "14581092-9d1e-4010-c927-337f7c5c1f4d"
      },
      "execution_count": 28,
      "outputs": [
        {
          "output_type": "stream",
          "name": "stdout",
          "text": [
            "False\n",
            "True\n"
          ]
        }
      ]
    },
    {
      "cell_type": "code",
      "source": [
        "#How to find the desired index number \n",
        "A=\"Hello Python\"\n",
        "print(A.index(\"o\"))"
      ],
      "metadata": {
        "colab": {
          "base_uri": "https://localhost:8080/"
        },
        "id": "b7NNQS-cfFEc",
        "outputId": "0caf276b-d07e-40c2-e414-a69039373a36"
      },
      "execution_count": 33,
      "outputs": [
        {
          "output_type": "stream",
          "name": "stdout",
          "text": [
            "4\n"
          ]
        }
      ]
    },
    {
      "cell_type": "code",
      "source": [
        "#Now if i waqnt to find out the index number of the second o \n",
        "A=\"Hello Python\"\n",
        "print(A.index(\"o\",5))"
      ],
      "metadata": {
        "colab": {
          "base_uri": "https://localhost:8080/"
        },
        "id": "nZDMbvV2cEvY",
        "outputId": "68ad409d-45a6-46da-eaeb-c88a079f8469"
      },
      "execution_count": 34,
      "outputs": [
        {
          "output_type": "stream",
          "name": "stdout",
          "text": [
            "10\n"
          ]
        }
      ]
    },
    {
      "cell_type": "code",
      "source": [
        "#How to find the minimum and maximum in a list \n",
        "A=[1,2,3,4,5,234,999,2,123,2537,2]\n",
        "print(A.index(2))\n",
        "print(A.index(2,2,10))\n",
        "print(len(A))\n",
        "print(A.index(2,8,11))\n",
        "print(min(A))\n",
        "print(max(A))\n",
        "print(A*2)"
      ],
      "metadata": {
        "colab": {
          "base_uri": "https://localhost:8080/"
        },
        "id": "WtAxZZhVhNht",
        "outputId": "acada684-76af-4c05-cfb6-3b7eecff714a"
      },
      "execution_count": 43,
      "outputs": [
        {
          "output_type": "stream",
          "name": "stdout",
          "text": [
            "1\n",
            "7\n",
            "11\n",
            "10\n",
            "1\n",
            "2537\n",
            "[1, 2, 3, 4, 5, 234, 999, 2, 123, 2537, 2, 1, 2, 3, 4, 5, 234, 999, 2, 123, 2537, 2]\n"
          ]
        }
      ]
    }
  ]
}