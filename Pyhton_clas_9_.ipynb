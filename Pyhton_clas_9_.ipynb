{
  "nbformat": 4,
  "nbformat_minor": 0,
  "metadata": {
    "colab": {
      "provenance": [],
      "authorship_tag": "ABX9TyP+1gkPB6+231Csp983omV7",
      "include_colab_link": true
    },
    "kernelspec": {
      "name": "python3",
      "display_name": "Python 3"
    },
    "language_info": {
      "name": "python"
    }
  },
  "cells": [
    {
      "cell_type": "markdown",
      "metadata": {
        "id": "view-in-github",
        "colab_type": "text"
      },
      "source": [
        "<a href=\"https://colab.research.google.com/github/0marRahmon/Python-Classes-/blob/main/Pyhton_clas_9_.ipynb\" target=\"_parent\"><img src=\"https://colab.research.google.com/assets/colab-badge.svg\" alt=\"Open In Colab\"/></a>"
      ]
    },
    {
      "cell_type": "code",
      "execution_count": 3,
      "metadata": {
        "id": "3vVbGVY8Hh0f",
        "colab": {
          "base_uri": "https://localhost:8080/"
        },
        "outputId": "e2ade777-3228-40b0-d586-a889a33a669c"
      },
      "outputs": [
        {
          "output_type": "stream",
          "name": "stdout",
          "text": [
            "My name is Omar My course is BBA My section is A\n",
            "<class 'str'>\n",
            "<class 'str'>\n",
            "<class 'str'>\n"
          ]
        }
      ],
      "source": [
        "#Advance Arguements passing \n",
        "#Keyword Arguement \n",
        "def a(name,course,sec):\n",
        "  print(\"My name is\",name,\"My course is\",course,\"My section is\",sec)\n",
        "  print(type(name))\n",
        "  print(type(course))\n",
        "  print(type(sec))\n",
        "a(\"Omar\",course=\"BBA\",sec=\"A\")"
      ]
    },
    {
      "cell_type": "code",
      "source": [
        "# N number of arguements(*args)When we don't know the exact number od arguements we use *args\n",
        "def details(Teacher,*args,**kwargs):\n",
        "  print(\"The teacher name is\",Teacher)\n",
        "  for roll_no in args:\n",
        "    print(\"The student rollno is\",roll_no)\n",
        "  for subject in kwargs:\n",
        "    print(subject ,kwargs[subject])\n",
        "details(\"Omar\",2,5,1,6,7,10,42,pyhton=100,data=23,hi=2)"
      ],
      "metadata": {
        "colab": {
          "base_uri": "https://localhost:8080/"
        },
        "id": "9M6SctAgSz9M",
        "outputId": "93378da7-fe6a-4264-b0db-d1d8a372ca8b"
      },
      "execution_count": 15,
      "outputs": [
        {
          "output_type": "stream",
          "name": "stdout",
          "text": [
            "The teacher name is Omar\n",
            "The student rollno is 2\n",
            "The student rollno is 5\n",
            "The student rollno is 1\n",
            "The student rollno is 6\n",
            "The student rollno is 7\n",
            "The student rollno is 10\n",
            "The student rollno is 42\n",
            "pyhton 100\n",
            "data 23\n",
            "hi 2\n"
          ]
        }
      ]
    },
    {
      "cell_type": "code",
      "source": [
        "def contents(Phy,Chem,*args,**kwargs):\n",
        "  print(\"The conetnts of the table is\",Phy,Chem)\n",
        "  for table in args:\n",
        "    print(\"The main subject is\",table)\n",
        "  for subject in kwargs:\n",
        "    print(subject,kwargs[subject])\n",
        "contents(\"a,b,c2\",3,2,10,phy=10,chem=20)\n",
        "\n",
        "   \n",
        "   \n"
      ],
      "metadata": {
        "colab": {
          "base_uri": "https://localhost:8080/"
        },
        "id": "M20oh3RO0R94",
        "outputId": "f40d55b6-efc2-407a-9325-78503350070e"
      },
      "execution_count": 19,
      "outputs": [
        {
          "output_type": "stream",
          "name": "stdout",
          "text": [
            "The conetnts of the table is a,b,c2 3\n",
            "The main subject is 2\n",
            "The main subject is 10\n",
            "phy 10\n",
            "chem 20\n"
          ]
        }
      ]
    },
    {
      "cell_type": "code",
      "source": [],
      "metadata": {
        "id": "OWZa9bvfxVlY"
      },
      "execution_count": null,
      "outputs": []
    }
  ]
}