{
  "nbformat": 4,
  "nbformat_minor": 0,
  "metadata": {
    "colab": {
      "provenance": [],
      "authorship_tag": "ABX9TyNM8cZiJ/WXIEq/NAIR6DFu",
      "include_colab_link": true
    },
    "kernelspec": {
      "name": "python3",
      "display_name": "Python 3"
    },
    "language_info": {
      "name": "python"
    }
  },
  "cells": [
    {
      "cell_type": "markdown",
      "metadata": {
        "id": "view-in-github",
        "colab_type": "text"
      },
      "source": [
        "<a href=\"https://colab.research.google.com/github/0marRahmon/Python-Classes-/blob/main/Python_class11.ipynb\" target=\"_parent\"><img src=\"https://colab.research.google.com/assets/colab-badge.svg\" alt=\"Open In Colab\"/></a>"
      ]
    },
    {
      "cell_type": "code",
      "execution_count": 13,
      "metadata": {
        "id": "YEMA6HWhJF_X",
        "colab": {
          "base_uri": "https://localhost:8080/"
        },
        "outputId": "fc3d68b9-4eb7-449b-badd-441b7483fe50"
      },
      "outputs": [
        {
          "output_type": "stream",
          "name": "stdout",
          "text": [
            "{1, 2, 4, 5}\n"
          ]
        }
      ],
      "source": [
        "List=[1,2,3,4,5,6]\n",
        "evenlist=set()\n",
        "for x in List:\n",
        "  if x % 3!=0:\n",
        "    evenlist.add(x)\n",
        "print(evenlist)\n"
      ]
    },
    {
      "cell_type": "code",
      "source": [
        "#Set comprehension \n",
        "set1={x for x in List if x %3!=0}\n",
        "print(set1)"
      ],
      "metadata": {
        "colab": {
          "base_uri": "https://localhost:8080/"
        },
        "id": "_x6nE-_oaXoC",
        "outputId": "87271e5e-c1cf-4fa1-a244-0cc00104af2f"
      },
      "execution_count": 14,
      "outputs": [
        {
          "output_type": "stream",
          "name": "stdout",
          "text": [
            "{1, 2, 4, 5}\n"
          ]
        }
      ]
    },
    {
      "cell_type": "code",
      "source": [
        "#Generators -the value will be generated using the yeild keywords and it is basically creating an iter in a much simpler way \n",
        "def gen(X):\n",
        "  print(\"The values are\")\n",
        "  yield X+50\n",
        "  yield X+10-X\n",
        "  yield X*10\n",
        "\n",
        "for x in gen(20):\n",
        "    print(x)\n"
      ],
      "metadata": {
        "colab": {
          "base_uri": "https://localhost:8080/"
        },
        "id": "deJ9moapkM-u",
        "outputId": "cf3437cb-1366-48e4-86e9-3bc9ad6c0cea"
      },
      "execution_count": 19,
      "outputs": [
        {
          "output_type": "stream",
          "name": "stdout",
          "text": [
            "The values are\n",
            "70\n",
            "10\n",
            "200\n"
          ]
        }
      ]
    },
    {
      "cell_type": "code",
      "source": [
        "def gen(X):\n",
        "  print(\"The values are\")\n",
        "  yield X+50\n",
        "  yield X+10-X\n",
        "  yield X*10\n",
        "y=gen(20)\n",
        "print(next(y))\n",
        "print(next(y))\n",
        "print(next(y))\n"
      ],
      "metadata": {
        "colab": {
          "base_uri": "https://localhost:8080/"
        },
        "id": "1_xuPpTjl5OR",
        "outputId": "bf293ba8-303a-4fec-d203-e1772a9ecb4e"
      },
      "execution_count": 25,
      "outputs": [
        {
          "output_type": "stream",
          "name": "stdout",
          "text": [
            "The values are\n",
            "70\n",
            "10\n",
            "200\n"
          ]
        }
      ]
    },
    {
      "cell_type": "code",
      "source": [
        "#Yield will be helping to generate data \n",
        "#return will be sending the data back as a result \n",
        "def a(b):\n",
        "  return b\n",
        "a(\"the task is complete\")"
      ],
      "metadata": {
        "colab": {
          "base_uri": "https://localhost:8080/",
          "height": 35
        },
        "id": "Zkl0WoBEnE1Y",
        "outputId": "e681ad52-0e7c-4bed-ea3a-1c22202778a5"
      },
      "execution_count": 26,
      "outputs": [
        {
          "output_type": "execute_result",
          "data": {
            "text/plain": [
              "'the task is complete'"
            ],
            "application/vnd.google.colaboratory.intrinsic+json": {
              "type": "string"
            }
          },
          "metadata": {},
          "execution_count": 26
        }
      ]
    },
    {
      "cell_type": "code",
      "source": [
        "#Lambda Functions = anonymous function and we can use N no. of parameters \n",
        "X= lambda x:x+25\n",
        "print(X(5))"
      ],
      "metadata": {
        "colab": {
          "base_uri": "https://localhost:8080/"
        },
        "id": "QON-NKHe1nti",
        "outputId": "c01a723e-71da-4d0e-d873-c02cdb66d70b"
      },
      "execution_count": 28,
      "outputs": [
        {
          "output_type": "stream",
          "name": "stdout",
          "text": [
            "30\n"
          ]
        }
      ]
    },
    {
      "cell_type": "code",
      "source": [
        "X1= lambda x,y,z:x+y-z\n",
        "print(X1(10,25,15))"
      ],
      "metadata": {
        "colab": {
          "base_uri": "https://localhost:8080/"
        },
        "id": "gPwGj5SS7VL7",
        "outputId": "86540230-d39f-4d28-961a-dd5f6abdad78"
      },
      "execution_count": 30,
      "outputs": [
        {
          "output_type": "stream",
          "name": "stdout",
          "text": [
            "20\n"
          ]
        }
      ]
    },
    {
      "cell_type": "code",
      "source": [
        "#Parameters can also be written in the same line \n",
        "print((lambda x,y,z:x+y+z) (10,20,30))"
      ],
      "metadata": {
        "colab": {
          "base_uri": "https://localhost:8080/"
        },
        "id": "sPM3aLUI-GXd",
        "outputId": "c9ec65ee-c719-44d3-f9c6-6f82dbc678f0"
      },
      "execution_count": 35,
      "outputs": [
        {
          "output_type": "stream",
          "name": "stdout",
          "text": [
            "60\n"
          ]
        }
      ]
    },
    {
      "cell_type": "code",
      "source": [
        "#Lambda as comprehension\n",
        "X3=[lambda x=x:x+5 for x in range (2,11)]\n",
        "for X2 in X3:\n",
        "  print(X2(4))"
      ],
      "metadata": {
        "colab": {
          "base_uri": "https://localhost:8080/"
        },
        "id": "9_rFPnoX-u62",
        "outputId": "3786664f-fd0b-4ea9-9068-fe5ba65ecbe6"
      },
      "execution_count": 1,
      "outputs": [
        {
          "output_type": "stream",
          "name": "stdout",
          "text": [
            "9\n",
            "9\n",
            "9\n",
            "9\n",
            "9\n",
            "9\n",
            "9\n",
            "9\n",
            "9\n"
          ]
        }
      ]
    },
    {
      "cell_type": "code",
      "source": [
        "#String Formatting \n",
        "#Operators \n",
        "print(\"Hello %s, Welcome all\"%\"Class\")"
      ],
      "metadata": {
        "colab": {
          "base_uri": "https://localhost:8080/"
        },
        "id": "we3Kgv8j-Gee",
        "outputId": "956b6282-e07c-44ad-af5d-087a497b0a3b"
      },
      "execution_count": 2,
      "outputs": [
        {
          "output_type": "stream",
          "name": "stdout",
          "text": [
            "Hello Class, Welcome all\n"
          ]
        }
      ]
    },
    {
      "cell_type": "code",
      "source": [
        "#Format \n",
        "print(\"Hello {1},Welcome {0}\" . format(\"Class\\n\",\"all\"))"
      ],
      "metadata": {
        "colab": {
          "base_uri": "https://localhost:8080/"
        },
        "id": "HpxkAlSSNGba",
        "outputId": "6b0a7c32-d05e-4ce7-9d45-ab3169ac0d90"
      },
      "execution_count": 5,
      "outputs": [
        {
          "output_type": "stream",
          "name": "stdout",
          "text": [
            "Hello all,Welcome Class\n",
            "\n"
          ]
        }
      ]
    }
  ]
}