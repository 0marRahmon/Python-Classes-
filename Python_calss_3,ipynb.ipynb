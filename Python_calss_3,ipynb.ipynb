{
  "nbformat": 4,
  "nbformat_minor": 0,
  "metadata": {
    "colab": {
      "provenance": [],
      "authorship_tag": "ABX9TyMwyh9hFTMp5fmHIdC/nM0O",
      "include_colab_link": true
    },
    "kernelspec": {
      "name": "python3",
      "display_name": "Python 3"
    },
    "language_info": {
      "name": "python"
    }
  },
  "cells": [
    {
      "cell_type": "markdown",
      "metadata": {
        "id": "view-in-github",
        "colab_type": "text"
      },
      "source": [
        "<a href=\"https://colab.research.google.com/github/0marRahmon/Python-Classes-/blob/main/Python_calss_3%2Cipynb.ipynb\" target=\"_parent\"><img src=\"https://colab.research.google.com/assets/colab-badge.svg\" alt=\"Open In Colab\"/></a>"
      ]
    },
    {
      "cell_type": "code",
      "execution_count": null,
      "metadata": {
        "id": "aHFkSMxa9JI7",
        "colab": {
          "base_uri": "https://localhost:8080/"
        },
        "outputId": "88ca400e-ea13-4a04-c59b-c29ebb209ead"
      },
      "outputs": [
        {
          "output_type": "stream",
          "name": "stdout",
          "text": [
            "('Ronaldo', 'Messi', 'Isagi')\n",
            "3\n",
            "<class 'tuple'>\n"
          ]
        }
      ],
      "source": [
        "#Tuple #Length how to find\n",
        "mytuple=(\"Ronaldo\",\"Messi\",\"Isagi\")\n",
        "print(mytuple)\n",
        "print(len(mytuple))\n",
        "print(type(mytuple))\n"
      ]
    },
    {
      "cell_type": "code",
      "source": [
        "#Dictionary \n",
        "A={\n",
        "    \"Brand\":\"Honda\",\n",
        "    \"Engine\":\"Vtec\",\n",
        "    \"Fuel\":\"Petrol\",\n",
        "}\n",
        "print(A)\n",
        "A[0]=\"Crdi\"\n",
        "print(A)\n",
        "A.pop(0)\n",
        "print(A)\n",
        "A[\"HorsePower\"]=128\n",
        "print(A)"
      ],
      "metadata": {
        "colab": {
          "base_uri": "https://localhost:8080/"
        },
        "id": "FkkpqsW1V9Bq",
        "outputId": "aefa2c94-c850-4976-e8b0-677bd0cfcf23"
      },
      "execution_count": null,
      "outputs": [
        {
          "output_type": "stream",
          "name": "stdout",
          "text": [
            "{'Brand': 'Honda', 'Engine': 'Vtec', 'Fuel': 'Petrol'}\n",
            "{'Brand': 'Honda', 'Engine': 'Vtec', 'Fuel': 'Petrol', 0: 'Crdi'}\n",
            "{'Brand': 'Honda', 'Engine': 'Vtec', 'Fuel': 'Petrol'}\n",
            "{'Brand': 'Honda', 'Engine': 'Vtec', 'Fuel': 'Petrol', 'HorsePower': 128}\n"
          ]
        }
      ]
    },
    {
      "cell_type": "code",
      "source": [
        "#Assigning two or three values in a single key \n",
        "#Only possible while updating the dictionary \n",
        "\n",
        "A={\n",
        "    \"Part\":\"Eyes\"\n",
        "}\n",
        "A[\"Part\"]=(\"Nose\",\"Ears\")\n",
        "print(A)\n",
        "print(type(A))\n",
        "print(type(\"Part\"))\n",
        "print(type(\"Eyes\"))\n",
        "\n"
      ],
      "metadata": {
        "colab": {
          "base_uri": "https://localhost:8080/"
        },
        "id": "obtarbpkzUMG",
        "outputId": "fe6415d0-974b-43ca-e335-dd988cc28884"
      },
      "execution_count": null,
      "outputs": [
        {
          "output_type": "stream",
          "name": "stdout",
          "text": [
            "{'Part': ('Nose', 'Ears')}\n",
            "<class 'dict'>\n",
            "<class 'str'>\n",
            "<class 'str'>\n"
          ]
        }
      ]
    },
    {
      "cell_type": "code",
      "source": [
        "#Sets - Unordered collections of data types,{},no duplicates \n",
        "A={0,2,4,\"Myset\",\"Messi\",\"Bluelock\"}\n",
        "print(A)\n",
        "print(type(A))\n",
        "\n",
        "A.remove(\"Bluelock\")\n",
        "del A\n",
        "print(A)\n",
        "#Set is Immutable "
      ],
      "metadata": {
        "colab": {
          "base_uri": "https://localhost:8080/",
          "height": 235
        },
        "id": "8Drcwxr5y_MP",
        "outputId": "889605e1-674f-49fb-a827-435252b5aee8"
      },
      "execution_count": null,
      "outputs": [
        {
          "output_type": "stream",
          "name": "stdout",
          "text": [
            "{0, 'Myset', 2, 4, 'Messi', 'Bluelock'}\n",
            "<class 'set'>\n"
          ]
        },
        {
          "output_type": "error",
          "ename": "NameError",
          "evalue": "ignored",
          "traceback": [
            "\u001b[0;31m---------------------------------------------------------------------------\u001b[0m",
            "\u001b[0;31mNameError\u001b[0m                                 Traceback (most recent call last)",
            "\u001b[0;32m<ipython-input-2-97f45a05e8ed>\u001b[0m in \u001b[0;36m<module>\u001b[0;34m\u001b[0m\n\u001b[1;32m      6\u001b[0m \u001b[0mA\u001b[0m\u001b[0;34m.\u001b[0m\u001b[0mremove\u001b[0m\u001b[0;34m(\u001b[0m\u001b[0;34m\"Bluelock\"\u001b[0m\u001b[0;34m)\u001b[0m\u001b[0;34m\u001b[0m\u001b[0;34m\u001b[0m\u001b[0m\n\u001b[1;32m      7\u001b[0m \u001b[0;32mdel\u001b[0m \u001b[0mA\u001b[0m\u001b[0;34m\u001b[0m\u001b[0;34m\u001b[0m\u001b[0m\n\u001b[0;32m----> 8\u001b[0;31m \u001b[0mprint\u001b[0m\u001b[0;34m(\u001b[0m\u001b[0mA\u001b[0m\u001b[0;34m)\u001b[0m\u001b[0;34m\u001b[0m\u001b[0;34m\u001b[0m\u001b[0m\n\u001b[0m",
            "\u001b[0;31mNameError\u001b[0m: name 'A' is not defined"
          ]
        }
      ]
    }
  ]
}