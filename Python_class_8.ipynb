{
  "nbformat": 4,
  "nbformat_minor": 0,
  "metadata": {
    "colab": {
      "provenance": [],
      "authorship_tag": "ABX9TyNlncscrzCVpv7aD7FnjgL9",
      "include_colab_link": true
    },
    "kernelspec": {
      "name": "python3",
      "display_name": "Python 3"
    },
    "language_info": {
      "name": "python"
    }
  },
  "cells": [
    {
      "cell_type": "markdown",
      "metadata": {
        "id": "view-in-github",
        "colab_type": "text"
      },
      "source": [
        "<a href=\"https://colab.research.google.com/github/0marRahmon/Python-Classes-/blob/main/Python_class_8.ipynb\" target=\"_parent\"><img src=\"https://colab.research.google.com/assets/colab-badge.svg\" alt=\"Open In Colab\"/></a>"
      ]
    },
    {
      "cell_type": "code",
      "execution_count": null,
      "metadata": {
        "id": "vd1r3e7pySA9"
      },
      "outputs": [],
      "source": [
        "#Files \n",
        "#Python has 3 modes i.e read mode,append mode,write mode"
      ]
    },
    {
      "cell_type": "code",
      "source": [
        "#Files on read only mode \n",
        "file=open(\"a.txt\",\"r\")\n",
        "print(file.read())"
      ],
      "metadata": {
        "colab": {
          "base_uri": "https://localhost:8080/"
        },
        "id": "1n9LjS4FAwDq",
        "outputId": "f5079b26-8965-4b4c-b8a6-86421788422e"
      },
      "execution_count": 11,
      "outputs": [
        {
          "output_type": "stream",
          "name": "stdout",
          "text": [
            "#Files \n",
            "#Python has 3 modes i.e read mode,append mode,write mode\n",
            "\n"
          ]
        }
      ]
    },
    {
      "cell_type": "code",
      "source": [
        "file.close()"
      ],
      "metadata": {
        "id": "tAvm2mcMCm6d"
      },
      "execution_count": 12,
      "outputs": []
    },
    {
      "cell_type": "code",
      "source": [
        "#Files on write mode \n",
        "file=open(\"a.txt\",\"w\")\n",
        "file.write(\"This sentence will overwrite\")"
      ],
      "metadata": {
        "colab": {
          "base_uri": "https://localhost:8080/"
        },
        "id": "NX2lNvTaC8b-",
        "outputId": "eaef5313-755f-497b-f6d4-592475e13887"
      },
      "execution_count": 27,
      "outputs": [
        {
          "output_type": "execute_result",
          "data": {
            "text/plain": [
              "28"
            ]
          },
          "metadata": {},
          "execution_count": 27
        }
      ]
    },
    {
      "cell_type": "code",
      "source": [
        "#Files after writing is overwritten \n",
        "file=open(\"a.txt\",\"r\")\n",
        "print(file.read())"
      ],
      "metadata": {
        "colab": {
          "base_uri": "https://localhost:8080/"
        },
        "id": "LAaW9BNeEFi3",
        "outputId": "a7555034-5c6f-4106-9e75-3ce1fb1a6333"
      },
      "execution_count": 29,
      "outputs": [
        {
          "output_type": "stream",
          "name": "stdout",
          "text": [
            "This sentence will overwrite\n"
          ]
        }
      ]
    },
    {
      "cell_type": "code",
      "source": [
        "#Files with writing in the next line using append only \n",
        "file=open(\"a.txt\",\"a\")\n",
        "file.write(\"\\nThis text is below yayy\")"
      ],
      "metadata": {
        "colab": {
          "base_uri": "https://localhost:8080/"
        },
        "id": "wUdNMjSRHkwG",
        "outputId": "131d9c75-1125-46e9-8370-fd166ba1de8d"
      },
      "execution_count": 30,
      "outputs": [
        {
          "output_type": "execute_result",
          "data": {
            "text/plain": [
              "24"
            ]
          },
          "metadata": {},
          "execution_count": 30
        }
      ]
    },
    {
      "cell_type": "code",
      "source": [
        "file=open(\"a.txt\",\"r\")\n",
        "print(file.read())"
      ],
      "metadata": {
        "colab": {
          "base_uri": "https://localhost:8080/"
        },
        "id": "Ygs19UELHmpd",
        "outputId": "965705b7-70ec-4d9f-93c5-9a31e1d2d180"
      },
      "execution_count": 32,
      "outputs": [
        {
          "output_type": "stream",
          "name": "stdout",
          "text": [
            "This sentence will overwrite\n",
            "This text is below yayy\n"
          ]
        }
      ]
    },
    {
      "cell_type": "code",
      "source": [
        "#Using WITH Keyword \n",
        "with open(\"a.txt\",\"r\") as file1:\n",
        " print(file1.read())"
      ],
      "metadata": {
        "colab": {
          "base_uri": "https://localhost:8080/"
        },
        "id": "CW7mw9j4KM16",
        "outputId": "dc241d51-686d-47cf-fbec-b326cd4a08df"
      },
      "execution_count": 35,
      "outputs": [
        {
          "output_type": "stream",
          "name": "stdout",
          "text": [
            "This sentence will overwrite\n",
            "This text is below yayy\n"
          ]
        }
      ]
    },
    {
      "cell_type": "code",
      "source": [
        "#Using R+\n",
        "A=[\"My \\n\",\"Name \\n\",\"is\"]"
      ],
      "metadata": {
        "id": "EQl0CTaSMTs1"
      },
      "execution_count": 39,
      "outputs": []
    },
    {
      "cell_type": "code",
      "source": [
        "with open(\"a.text\",\"a+\") as file2:\n",
        "  file2.writelines(A)"
      ],
      "metadata": {
        "id": "q5dDoTTOOBPi"
      },
      "execution_count": 44,
      "outputs": []
    },
    {
      "cell_type": "code",
      "source": [
        "with open(\"a.text\",\"r+\") as file2:\n",
        " print(file2.read())"
      ],
      "metadata": {
        "colab": {
          "base_uri": "https://localhost:8080/"
        },
        "id": "6gM4ysmpPivH",
        "outputId": "dbd08700-fba7-435d-8421-ea4caae71f4d"
      },
      "execution_count": 47,
      "outputs": [
        {
          "output_type": "stream",
          "name": "stdout",
          "text": [
            "My \n",
            "Name \n",
            "isMy \n",
            "Name \n",
            "isMy \n",
            "Name \n",
            "isMy \n",
            "Name \n",
            "is\n"
          ]
        }
      ]
    },
    {
      "cell_type": "code",
      "source": [
        "#How to make a simple calculator \n",
        "def a():\n",
        "  num1=float(input(\"First number:\"))\n",
        "  num2=float(input(\"Second number:\"))\n",
        "  operation=input(\"Enter the operation (+,-,*,/):\")\n",
        "  if operation == \"+\":\n",
        "   result = num1 + num2\n",
        "  elif operation ==\"-\":\n",
        "   result = num1 - num2\n",
        "  elif operation ==\"*\":\n",
        "   result = num1 * num2\n",
        "  elif operation ==\"/\":\n",
        "   result = num1 / num2\n",
        "  else :\n",
        "   print(\"invalid operation.\")\n",
        "   return\n",
        "\n",
        "  print(\"The result is:\", result)\n",
        "a()\n",
        "\n"
      ],
      "metadata": {
        "colab": {
          "base_uri": "https://localhost:8080/"
        },
        "id": "umSELB62Qrsj",
        "outputId": "d8fd2522-b55d-45ed-e19d-4d740bc0b685"
      },
      "execution_count": 59,
      "outputs": [
        {
          "output_type": "stream",
          "name": "stdout",
          "text": [
            "First number:16\n",
            "Second number:8\n",
            "Enter the operation (+,-,*,/):/\n",
            "The result is: 2.0\n"
          ]
        }
      ]
    },
    {
      "cell_type": "code",
      "source": [
        "def calculator():\n",
        "    print(\"Welcome to the calculator!\")\n",
        "    num1 = float(input(\"Enter the first number: \"))\n",
        "    num2 = float(input(\"Enter the second number: \"))\n",
        "    operation = input(\"Enter the operation (+, -, *, /): \")\n",
        "    \n",
        "    if operation == \"+\":\n",
        "        result = num1 + num2\n",
        "    elif operation == \"-\":\n",
        "        result = num1 - num2\n",
        "    elif operation == \"*\":\n",
        "        result = num1 * num2\n",
        "    elif operation == \"/\":\n",
        "        result = num1 / num2\n",
        "    else:\n",
        "        print(\"Invalid operation.\")\n",
        "        return\n",
        "    \n",
        "    print(\"The result is: \", result)\n",
        "\n",
        "calculator()"
      ],
      "metadata": {
        "colab": {
          "base_uri": "https://localhost:8080/"
        },
        "id": "N8plJrTuUH8x",
        "outputId": "55a51dde-b292-4ee8-d48e-e591732fc799"
      },
      "execution_count": 51,
      "outputs": [
        {
          "output_type": "stream",
          "name": "stdout",
          "text": [
            "Welcome to the calculator!\n",
            "Enter the first number:  100\n",
            "Enter the second number:  200\n",
            "Enter the operation (+, -, *, /): +\n",
            "The result is:  300.0\n"
          ]
        }
      ]
    }
  ]
}