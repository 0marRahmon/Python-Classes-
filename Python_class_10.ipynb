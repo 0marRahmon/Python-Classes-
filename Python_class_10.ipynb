{
  "nbformat": 4,
  "nbformat_minor": 0,
  "metadata": {
    "colab": {
      "provenance": [],
      "authorship_tag": "ABX9TyP9grczQROxHBkQIbHboO7W",
      "include_colab_link": true
    },
    "kernelspec": {
      "name": "python3",
      "display_name": "Python 3"
    },
    "language_info": {
      "name": "python"
    }
  },
  "cells": [
    {
      "cell_type": "markdown",
      "metadata": {
        "id": "view-in-github",
        "colab_type": "text"
      },
      "source": [
        "<a href=\"https://colab.research.google.com/github/0marRahmon/Python-Classes-/blob/main/Python_class_10.ipynb\" target=\"_parent\"><img src=\"https://colab.research.google.com/assets/colab-badge.svg\" alt=\"Open In Colab\"/></a>"
      ]
    },
    {
      "cell_type": "code",
      "execution_count": 6,
      "metadata": {
        "id": "DPCCxtlKAenX",
        "colab": {
          "base_uri": "https://localhost:8080/"
        },
        "outputId": "2c3c8704-e929-4783-82d3-cb6c98a56e63"
      },
      "outputs": [
        {
          "output_type": "stream",
          "name": "stdout",
          "text": [
            "Invalid syntax\n"
          ]
        }
      ],
      "source": [
        "#Exception Handling in python \n",
        "try:\n",
        "  print(Hi)\n",
        "except:\n",
        "  print(\"Invalid syntax\")\n"
      ]
    },
    {
      "cell_type": "code",
      "source": [
        "List=[1,2,3,4,5,6]\n",
        "try:\n",
        "  print(List(6))\n",
        "except:\n",
        "  print(\"Errrror\")"
      ],
      "metadata": {
        "colab": {
          "base_uri": "https://localhost:8080/"
        },
        "id": "ePU1xK4pSmPO",
        "outputId": "e3d3799f-bee3-42f9-cc12-ea23f050fa3f"
      },
      "execution_count": 10,
      "outputs": [
        {
          "output_type": "stream",
          "name": "stdout",
          "text": [
            "Errrror\n"
          ]
        }
      ]
    },
    {
      "cell_type": "code",
      "source": [
        "List=[1,2,3,4,5,6]\n",
        "try:\n",
        "  print(List(6))\n",
        "  print(List[1])\n",
        "except:\n",
        "  print(\"Errrror\")"
      ],
      "metadata": {
        "colab": {
          "base_uri": "https://localhost:8080/"
        },
        "id": "vuVcCc18Ti7n",
        "outputId": "998cfb18-8435-48f1-f91a-73cec34aaa89"
      },
      "execution_count": 11,
      "outputs": [
        {
          "output_type": "stream",
          "name": "stdout",
          "text": [
            "Errrror\n"
          ]
        }
      ]
    },
    {
      "cell_type": "code",
      "source": [
        "#Modules and opening files using try and except \n",
        "try:\n",
        "  A=open(\"file.txt\",\"r\")\n",
        "  print(A.read())\n",
        "except:\n",
        "  print(\"File is unavailable\")\n",
        "finally:\n",
        "  print(\"DUM DUM DUM\")"
      ],
      "metadata": {
        "colab": {
          "base_uri": "https://localhost:8080/"
        },
        "id": "YLEL7uOVVKBB",
        "outputId": "3e75a86b-bf38-4f09-ae39-49f14c1b8f66"
      },
      "execution_count": 15,
      "outputs": [
        {
          "output_type": "stream",
          "name": "stdout",
          "text": [
            "File is unavailable\n",
            "DUM DUM DUM\n"
          ]
        }
      ]
    },
    {
      "cell_type": "code",
      "source": [
        "try:\n",
        "  A=open(\"file1.txt\",\"r\")\n",
        "  print(A.read())\n",
        "except:\n",
        "  print(\"File is unavailable\")\n",
        "finally:\n",
        "  print(\"DUM DUM DUM\")"
      ],
      "metadata": {
        "colab": {
          "base_uri": "https://localhost:8080/"
        },
        "id": "oVHom5BVVr4u",
        "outputId": "d5657d7a-35b1-487d-d984-694d5bc964af"
      },
      "execution_count": 14,
      "outputs": [
        {
          "output_type": "stream",
          "name": "stdout",
          "text": [
            "DOM DOM DOM\n",
            "DUM DUM DUM\n"
          ]
        }
      ]
    },
    {
      "cell_type": "code",
      "source": [
        "#Raising an error or manipulating to get an error \n",
        "try:\n",
        "  raise ZeroDivisionError(\"SUI\")\n",
        "except:\n",
        "  print(\"Error Occured\")\n",
        "  raise"
      ],
      "metadata": {
        "colab": {
          "base_uri": "https://localhost:8080/",
          "height": 252
        },
        "id": "CQIhCgYuYjdl",
        "outputId": "485dd2fa-b423-40ff-e295-76163019c9f1"
      },
      "execution_count": 17,
      "outputs": [
        {
          "output_type": "stream",
          "name": "stdout",
          "text": [
            "Error Occured\n"
          ]
        },
        {
          "output_type": "error",
          "ename": "ZeroDivisionError",
          "evalue": "ignored",
          "traceback": [
            "\u001b[0;31m---------------------------------------------------------------------------\u001b[0m",
            "\u001b[0;31mZeroDivisionError\u001b[0m                         Traceback (most recent call last)",
            "\u001b[0;32m<ipython-input-17-407a819e7acb>\u001b[0m in \u001b[0;36m<module>\u001b[0;34m\u001b[0m\n\u001b[1;32m      1\u001b[0m \u001b[0;31m#Raising an error or manipulating to get an error\u001b[0m\u001b[0;34m\u001b[0m\u001b[0;34m\u001b[0m\u001b[0;34m\u001b[0m\u001b[0m\n\u001b[1;32m      2\u001b[0m \u001b[0;32mtry\u001b[0m\u001b[0;34m:\u001b[0m\u001b[0;34m\u001b[0m\u001b[0;34m\u001b[0m\u001b[0m\n\u001b[0;32m----> 3\u001b[0;31m   \u001b[0;32mraise\u001b[0m \u001b[0mZeroDivisionError\u001b[0m\u001b[0;34m(\u001b[0m\u001b[0;34m\"SUI\"\u001b[0m\u001b[0;34m)\u001b[0m\u001b[0;34m\u001b[0m\u001b[0;34m\u001b[0m\u001b[0m\n\u001b[0m\u001b[1;32m      4\u001b[0m \u001b[0;32mexcept\u001b[0m\u001b[0;34m:\u001b[0m\u001b[0;34m\u001b[0m\u001b[0;34m\u001b[0m\u001b[0m\n\u001b[1;32m      5\u001b[0m   \u001b[0mprint\u001b[0m\u001b[0;34m(\u001b[0m\u001b[0;34m\"Error Occured\"\u001b[0m\u001b[0;34m)\u001b[0m\u001b[0;34m\u001b[0m\u001b[0;34m\u001b[0m\u001b[0m\n",
            "\u001b[0;31mZeroDivisionError\u001b[0m: SUI"
          ]
        }
      ]
    },
    {
      "cell_type": "code",
      "source": [
        "try:\n",
        "  raise TypeError(\"SUI\")\n",
        "except:\n",
        "  print(\"Error Occured\")\n",
        "  raise"
      ],
      "metadata": {
        "colab": {
          "base_uri": "https://localhost:8080/",
          "height": 252
        },
        "id": "lTm6ILUcafIi",
        "outputId": "7cb4fb7d-edfb-4517-f159-ab831d73a55d"
      },
      "execution_count": 18,
      "outputs": [
        {
          "output_type": "stream",
          "name": "stdout",
          "text": [
            "Error Occured\n"
          ]
        },
        {
          "output_type": "error",
          "ename": "TypeError",
          "evalue": "ignored",
          "traceback": [
            "\u001b[0;31m---------------------------------------------------------------------------\u001b[0m",
            "\u001b[0;31mTypeError\u001b[0m                                 Traceback (most recent call last)",
            "\u001b[0;32m<ipython-input-18-a80763afe878>\u001b[0m in \u001b[0;36m<module>\u001b[0;34m\u001b[0m\n\u001b[1;32m      1\u001b[0m \u001b[0;32mtry\u001b[0m\u001b[0;34m:\u001b[0m\u001b[0;34m\u001b[0m\u001b[0;34m\u001b[0m\u001b[0m\n\u001b[0;32m----> 2\u001b[0;31m   \u001b[0;32mraise\u001b[0m \u001b[0mTypeError\u001b[0m\u001b[0;34m(\u001b[0m\u001b[0;34m\"SUI\"\u001b[0m\u001b[0;34m)\u001b[0m\u001b[0;34m\u001b[0m\u001b[0;34m\u001b[0m\u001b[0m\n\u001b[0m\u001b[1;32m      3\u001b[0m \u001b[0;32mexcept\u001b[0m\u001b[0;34m:\u001b[0m\u001b[0;34m\u001b[0m\u001b[0;34m\u001b[0m\u001b[0m\n\u001b[1;32m      4\u001b[0m   \u001b[0mprint\u001b[0m\u001b[0;34m(\u001b[0m\u001b[0;34m\"Error Occured\"\u001b[0m\u001b[0;34m)\u001b[0m\u001b[0;34m\u001b[0m\u001b[0;34m\u001b[0m\u001b[0m\n\u001b[1;32m      5\u001b[0m   \u001b[0;32mraise\u001b[0m\u001b[0;34m\u001b[0m\u001b[0;34m\u001b[0m\u001b[0m\n",
            "\u001b[0;31mTypeError\u001b[0m: SUI"
          ]
        }
      ]
    },
    {
      "cell_type": "code",
      "source": [
        "X=200\n",
        "Y=0\n",
        "try:\n",
        "  Z= X/Y\n",
        "  print(Z)\n",
        "except :\n",
        "  print(\"X cannot be divided\")\n"
      ],
      "metadata": {
        "colab": {
          "base_uri": "https://localhost:8080/"
        },
        "id": "TFaRKllecwu2",
        "outputId": "5d1356fc-8d44-4ff2-fbca-cf487a3714ca"
      },
      "execution_count": 24,
      "outputs": [
        {
          "output_type": "stream",
          "name": "stdout",
          "text": [
            "X cannot be divided\n"
          ]
        }
      ]
    },
    {
      "cell_type": "code",
      "source": [
        "#Comprehension is used as the task can be implemented in a short and precise way \n",
        "#Four types\n",
        "'''List'''\n",
        "'''Dictionary'''\n",
        "'''Set'''\n",
        "'''Generator'''\n",
        "\n"
      ],
      "metadata": {
        "id": "0EYDzUF2db_x"
      },
      "execution_count": null,
      "outputs": []
    },
    {
      "cell_type": "code",
      "source": [
        "#Using List first \n",
        "List=[1,2,34,56,11,123]\n",
        "evenlist=[]\n",
        "oddlist=[]\n",
        "for x in List:\n",
        "  if x %2==0:\n",
        "    evenlist.append(x)\n",
        "  else :\n",
        "    x %2!=0\n",
        "    oddlist.append(x)\n",
        "print(evenlist)\n",
        "print(oddlist)\n"
      ],
      "metadata": {
        "colab": {
          "base_uri": "https://localhost:8080/"
        },
        "id": "VkxTV1Jbn_4U",
        "outputId": "c9b83438-de36-46d1-aaea-43f10f677147"
      },
      "execution_count": 29,
      "outputs": [
        {
          "output_type": "stream",
          "name": "stdout",
          "text": [
            "[2, 34, 56]\n",
            "[1, 11, 123]\n"
          ]
        }
      ]
    },
    {
      "cell_type": "code",
      "source": [
        "#List comprehension same code but it can be executed in a line \n",
        "evennumber=[value for value in List if value %2==0 ]\n",
        "print(evennumber)"
      ],
      "metadata": {
        "colab": {
          "base_uri": "https://localhost:8080/"
        },
        "id": "3izQ7-mbs7Cc",
        "outputId": "b450cd16-d00d-429c-aee5-5309426d2502"
      },
      "execution_count": 30,
      "outputs": [
        {
          "output_type": "stream",
          "name": "stdout",
          "text": [
            "[2, 34, 56]\n"
          ]
        }
      ]
    },
    {
      "cell_type": "code",
      "source": [
        "#Dictionary \n",
        "List=[1,2,34,56,11,123]\n",
        "Dic={}\n",
        "for X in List:\n",
        "  Dic[X]=X**2\n",
        "print(Dic)"
      ],
      "metadata": {
        "colab": {
          "base_uri": "https://localhost:8080/"
        },
        "id": "yJTtNPPMuM57",
        "outputId": "52ec3f40-2d18-446c-d8d4-d63172890090"
      },
      "execution_count": 35,
      "outputs": [
        {
          "output_type": "stream",
          "name": "stdout",
          "text": [
            "{1: 1, 2: 4, 34: 1156, 56: 3136, 11: 121, 123: 15129}\n"
          ]
        }
      ]
    },
    {
      "cell_type": "code",
      "source": [
        "#Dictionary Comprehension \n",
        "D={i:i**2 for i in List}\n",
        "print(D)"
      ],
      "metadata": {
        "colab": {
          "base_uri": "https://localhost:8080/"
        },
        "id": "08qtQov_v6Tu",
        "outputId": "a0fab363-cdd5-4c7a-8d12-f6f5e8c4c1d8"
      },
      "execution_count": 40,
      "outputs": [
        {
          "output_type": "stream",
          "name": "stdout",
          "text": [
            "{1: 1, 2: 4, 34: 1156, 56: 3136, 11: 121, 123: 15129}\n"
          ]
        }
      ]
    }
  ]
}