{
  "nbformat": 4,
  "nbformat_minor": 0,
  "metadata": {
    "colab": {
      "provenance": [],
      "authorship_tag": "ABX9TyONq/YI/0Q+p07i9b86du3P",
      "include_colab_link": true
    },
    "kernelspec": {
      "name": "python3",
      "display_name": "Python 3"
    },
    "language_info": {
      "name": "python"
    }
  },
  "cells": [
    {
      "cell_type": "markdown",
      "metadata": {
        "id": "view-in-github",
        "colab_type": "text"
      },
      "source": [
        "<a href=\"https://colab.research.google.com/github/0marRahmon/Python-Classes-/blob/main/Python_Class_4.ipynb\" target=\"_parent\"><img src=\"https://colab.research.google.com/assets/colab-badge.svg\" alt=\"Open In Colab\"/></a>"
      ]
    },
    {
      "cell_type": "code",
      "execution_count": 5,
      "metadata": {
        "colab": {
          "base_uri": "https://localhost:8080/"
        },
        "id": "ugg9GlzqjCt7",
        "outputId": "e6a5018e-a54b-44bc-fe77-ae952d51fb1a"
      },
      "outputs": [
        {
          "output_type": "stream",
          "name": "stdout",
          "text": [
            "{1, 2, 4, 5, 6, 7, 20}\n",
            "{10, 11, 12, 13, 14}\n",
            "{1, 2, 4, 5, 6, 7, 10, 11, 12, 13, 14, 20}\n",
            "{1, 2, 4, 5, 6, 7, 'Suii', 10, 11, 12, 13, 14, 1100, 'Omar', 20}\n"
          ]
        }
      ],
      "source": [
        "#Set revision i.e Union \n",
        "Set1={1,2,4,5,6,7}\n",
        "Set2={10,11,12,13,14}\n",
        "Set1.add(20)\n",
        "print(Set1)\n",
        "print(Set2)\n",
        "Set3= Set1|Set2\n",
        "print(Set3)\n",
        "Set4={1100,\"Omar\",\"Suii\"}\n",
        "Set5=Set3.union(Set4)\n",
        "print(Set5)"
      ]
    },
    {
      "cell_type": "code",
      "source": [
        "#Updating Dictionary \n",
        "A={\n",
        "     \"Name\":\"Omar\",\n",
        "    \"Class\":\"BBA\",\n",
        "    \"Roll no\":45,\n",
        "   \"Section\":\"A\"\n",
        "   }\n",
        "print(A)\n",
        "#Step 1 is to assign new variable \n",
        "B=A[\"Class\"]\n",
        "del A[\"Class\"]\n",
        "A[\"Course\"]=B\n",
        "A[\"Section\"]=\"C\"\n",
        "A.pop(\"Roll no\")\n",
        "print(A)"
      ],
      "metadata": {
        "colab": {
          "base_uri": "https://localhost:8080/"
        },
        "id": "oKu_ibHk1DvK",
        "outputId": "453e42ae-48b1-42f2-c58f-00713f073d83"
      },
      "execution_count": 23,
      "outputs": [
        {
          "output_type": "stream",
          "name": "stdout",
          "text": [
            "{'Name': 'Omar', 'Class': 'BBA', 'Roll no': 45, 'Section': 'A'}\n",
            "{'Name': 'Omar', 'Section': 'C', 'Course': 'BBA'}\n"
          ]
        }
      ]
    },
    {
      "cell_type": "code",
      "source": [
        "#Use of Intersection ie common data \n",
        "Set1={1,2,3,4,5,6,100}\n",
        "Set2={2,4,6,8,22}\n",
        "Set3=Set1.intersection(Set2)\n",
        "Set4=Set1.difference(Set2)\n",
        "print(Set3)\n",
        "print(Set4)"
      ],
      "metadata": {
        "colab": {
          "base_uri": "https://localhost:8080/"
        },
        "id": "HylU3sdi6ELG",
        "outputId": "463e4ff7-9722-4cf6-df34-0ce9979509bf"
      },
      "execution_count": 27,
      "outputs": [
        {
          "output_type": "stream",
          "name": "stdout",
          "text": [
            "{2, 4, 6}\n",
            "{1, 3, 100, 5}\n"
          ]
        }
      ]
    },
    {
      "cell_type": "code",
      "source": [
        "Set10={1,2,4,\"Data\",\"Python\"}\n",
        "Set11={0,1,3,\"Python\",\"Suii\"}\n",
        "Set12={22,33,\"Suii\",0,\"Python\"}\n",
        "Set13={\"Data\",\"Python\",\"Suii\"}\n",
        "Set14=Set10&Set11\n",
        "Set15=Set12&Set13\n",
        "Set16=Set14&Set15\n",
        "Set17=Set14|Set15\n",
        "print(Set16)\n",
        "print(Set14)\n",
        "print(Set15)\n",
        "print(Set17)"
      ],
      "metadata": {
        "colab": {
          "base_uri": "https://localhost:8080/"
        },
        "id": "8unTSSG2GKbJ",
        "outputId": "eab59db1-c22e-4ae5-cc11-6344e961a25d"
      },
      "execution_count": 32,
      "outputs": [
        {
          "output_type": "stream",
          "name": "stdout",
          "text": [
            "{'Python'}\n",
            "{1, 'Python'}\n",
            "{'Suii', 'Python'}\n",
            "{1, 'Suii', 'Python'}\n"
          ]
        }
      ]
    },
    {
      "cell_type": "code",
      "source": [
        "#Indexing is printing indiviual elements \n",
        "#Slicing used to print the range of the elements\n",
        "\n",
        "ABC=\"Messi\"\n",
        "\n",
        "print(ABC[2:5])\n",
        "print(ABC[0:])\n",
        "print(ABC[:4])\n",
        "print(ABC[-1:])\n",
        "print(ABC[:-3])\n",
        "print(ABC[-3:-5])"
      ],
      "metadata": {
        "colab": {
          "base_uri": "https://localhost:8080/"
        },
        "id": "7og_oKk4QWKS",
        "outputId": "e8b0a84a-d6c4-435c-c480-476c8dadc7ed"
      },
      "execution_count": 35,
      "outputs": [
        {
          "output_type": "stream",
          "name": "stdout",
          "text": [
            "ssi\n",
            "Messi\n",
            "Mess\n",
            "i\n",
            "Me\n",
            "\n"
          ]
        }
      ]
    }
  ]
}