{
  "nbformat": 4,
  "nbformat_minor": 0,
  "metadata": {
    "colab": {
      "provenance": [],
      "authorship_tag": "ABX9TyO83ChnL6SJ04I0l1gkH0HM",
      "include_colab_link": true
    },
    "kernelspec": {
      "name": "python3",
      "display_name": "Python 3"
    },
    "language_info": {
      "name": "python"
    }
  },
  "cells": [
    {
      "cell_type": "markdown",
      "metadata": {
        "id": "view-in-github",
        "colab_type": "text"
      },
      "source": [
        "<a href=\"https://colab.research.google.com/github/0marRahmon/Python-Classes-/blob/main/Python_class14.ipynb\" target=\"_parent\"><img src=\"https://colab.research.google.com/assets/colab-badge.svg\" alt=\"Open In Colab\"/></a>"
      ]
    },
    {
      "cell_type": "code",
      "execution_count": null,
      "metadata": {
        "id": "HfPFaSnmiqI2"
      },
      "outputs": [],
      "source": [
        "#Python decorators--> Allows users to modify or add new functionality to an existing object without modifying the structure \n",
        "def increment(num1):\n",
        "  return num1+10\n",
        "def decrement(num1):\n",
        "  return num1-10"
      ]
    },
    {
      "cell_type": "code",
      "source": [
        "def incdec(func,num1):\n",
        "  result=func(num1)\n",
        "  return result \n",
        "incdec(increment,12)\n"
      ],
      "metadata": {
        "colab": {
          "base_uri": "https://localhost:8080/"
        },
        "id": "ghqFRmK0wobk",
        "outputId": "983f4b93-96e7-482d-c455-b1864561aa68"
      },
      "execution_count": null,
      "outputs": [
        {
          "output_type": "execute_result",
          "data": {
            "text/plain": [
              "22"
            ]
          },
          "metadata": {},
          "execution_count": 7
        }
      ]
    },
    {
      "cell_type": "code",
      "source": [
        "def incdec(func,num1):\n",
        "  result=func(num1)\n",
        "  return result \n",
        "incdec(decrement,4)\n"
      ],
      "metadata": {
        "colab": {
          "base_uri": "https://localhost:8080/"
        },
        "id": "1utcrcWExNF8",
        "outputId": "8a1d54be-d46c-4a6c-9f95-8b708746b71e"
      },
      "execution_count": null,
      "outputs": [
        {
          "output_type": "execute_result",
          "data": {
            "text/plain": [
              "-6"
            ]
          },
          "metadata": {},
          "execution_count": 8
        }
      ]
    },
    {
      "cell_type": "code",
      "source": [
        "def simple():\n",
        "  print(\"My name is Omar\")"
      ],
      "metadata": {
        "id": "SHoW1t4_xNOa"
      },
      "execution_count": 23,
      "outputs": []
    },
    {
      "cell_type": "code",
      "source": [
        "def special(func):\n",
        "  def a():\n",
        "    print('What is your name?')\n",
        "    func()\n",
        "  return a()\n",
        "special(simple)"
      ],
      "metadata": {
        "colab": {
          "base_uri": "https://localhost:8080/"
        },
        "id": "u8eVJ4iKuHSQ",
        "outputId": "b79f0f84-0787-4f6e-eddc-4ab2382fd018"
      },
      "execution_count": 24,
      "outputs": [
        {
          "output_type": "stream",
          "name": "stdout",
          "text": [
            "What is your name?\n",
            "My name is Omar\n"
          ]
        }
      ]
    },
    {
      "cell_type": "code",
      "source": [
        "import pygame \n",
        "pygame.init()\n",
        "window=pygame.display.set_mode((900,700))\n",
        "pygame.display.set_caption(\"My New game\")\n",
        "\n",
        "icon=pygame.image.load(\"icon.png\")\n",
        "pygame.display.set_icon(icon)\n",
        "\n",
        "spaceship=pygame.image.load(\"icon.png\")\n",
        "spaceship_x=200\n",
        "spaceship_y=300\n",
        "\n",
        "def display_spaceship(x,y):\n",
        "  window.blit(spaceship,(x,y))\n",
        "bg=pygame.image.load(\"Background.jpg\")\n",
        "\n",
        "\n",
        "gameon=True \n",
        "while gameon:\n",
        "  window.blit(bg,(0,0))\n",
        "  for even in pygame.event .get():\n",
        "    if even.type==pygame.Quit:\n",
        "      gameon=False \n",
        "\n",
        "  keys =pygame.key.get_pressed()\n",
        "  if keys[pygame.K_LEFT]:\n",
        "    spaceship_x-=1\n",
        "  if keys[pygame.K_RIGHT]:\n",
        "    spaceship_x+=1\n",
        "  if keys[pygame.K_UP]:\n",
        "    spaceship_y+=1\n",
        "  if keys[pygame.K_DOWN]:\n",
        "    spaceship_y-=1\n",
        "\n",
        "  display_spaceship(spaceship_x,spaceship_y)\n",
        "  pygame.display.update()\n",
        "\n",
        "\n",
        "pygame.quit()"
      ],
      "metadata": {
        "colab": {
          "base_uri": "https://localhost:8080/",
          "height": 269
        },
        "id": "Wd13NNUa8JtC",
        "outputId": "57b9f2d7-32b8-4dbd-85a7-fd8515e6ec9e"
      },
      "execution_count": 25,
      "outputs": [
        {
          "output_type": "stream",
          "name": "stdout",
          "text": [
            "pygame 2.3.0 (SDL 2.24.2, Python 3.9.16)\n",
            "Hello from the pygame community. https://www.pygame.org/contribute.html\n"
          ]
        },
        {
          "output_type": "error",
          "ename": "error",
          "evalue": "ignored",
          "traceback": [
            "\u001b[0;31m---------------------------------------------------------------------------\u001b[0m",
            "\u001b[0;31merror\u001b[0m                                     Traceback (most recent call last)",
            "\u001b[0;32m<ipython-input-25-fd1a744c8893>\u001b[0m in \u001b[0;36m<cell line: 4>\u001b[0;34m()\u001b[0m\n\u001b[1;32m      2\u001b[0m \u001b[0mpygame\u001b[0m\u001b[0;34m.\u001b[0m\u001b[0minit\u001b[0m\u001b[0;34m(\u001b[0m\u001b[0;34m)\u001b[0m\u001b[0;34m\u001b[0m\u001b[0;34m\u001b[0m\u001b[0m\n\u001b[1;32m      3\u001b[0m \u001b[0;34m\u001b[0m\u001b[0m\n\u001b[0;32m----> 4\u001b[0;31m \u001b[0mwindow\u001b[0m\u001b[0;34m=\u001b[0m\u001b[0mpygame\u001b[0m\u001b[0;34m.\u001b[0m\u001b[0mdisplay\u001b[0m\u001b[0;34m.\u001b[0m\u001b[0mset_mode\u001b[0m\u001b[0;34m(\u001b[0m\u001b[0;34m(\u001b[0m\u001b[0;36m900\u001b[0m\u001b[0;34m,\u001b[0m\u001b[0;36m700\u001b[0m\u001b[0;34m)\u001b[0m\u001b[0;34m)\u001b[0m\u001b[0;34m\u001b[0m\u001b[0;34m\u001b[0m\u001b[0m\n\u001b[0m\u001b[1;32m      5\u001b[0m \u001b[0mpygame\u001b[0m\u001b[0;34m.\u001b[0m\u001b[0mdisplay\u001b[0m\u001b[0;34m.\u001b[0m\u001b[0mset_caption\u001b[0m\u001b[0;34m(\u001b[0m\u001b[0;34m\"My New game\"\u001b[0m\u001b[0;34m)\u001b[0m\u001b[0;34m\u001b[0m\u001b[0;34m\u001b[0m\u001b[0m\n\u001b[1;32m      6\u001b[0m \u001b[0;34m\u001b[0m\u001b[0m\n",
            "\u001b[0;31merror\u001b[0m: No available video device"
          ]
        }
      ]
    }
  ]
}