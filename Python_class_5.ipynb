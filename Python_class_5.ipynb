{
  "nbformat": 4,
  "nbformat_minor": 0,
  "metadata": {
    "colab": {
      "provenance": [],
      "authorship_tag": "ABX9TyOitsNSQZtrtJYKl6N0IfKd",
      "include_colab_link": true
    },
    "kernelspec": {
      "name": "python3",
      "display_name": "Python 3"
    },
    "language_info": {
      "name": "python"
    }
  },
  "cells": [
    {
      "cell_type": "markdown",
      "metadata": {
        "id": "view-in-github",
        "colab_type": "text"
      },
      "source": [
        "<a href=\"https://colab.research.google.com/github/0marRahmon/Python-Classes-/blob/main/Python_class_5.ipynb\" target=\"_parent\"><img src=\"https://colab.research.google.com/assets/colab-badge.svg\" alt=\"Open In Colab\"/></a>"
      ]
    },
    {
      "cell_type": "code",
      "execution_count": 6,
      "metadata": {
        "colab": {
          "base_uri": "https://localhost:8080/"
        },
        "id": "sn09pNvlF9Rs",
        "outputId": "04e3a302-7d5e-4888-b3c4-e985ec96db90"
      },
      "outputs": [
        {
          "output_type": "stream",
          "name": "stdout",
          "text": [
            "Msi\n",
            "Messi\n",
            "Ms\n",
            "es\n",
            "Ms\n"
          ]
        }
      ],
      "source": [
        "ABC=\"Messi\"\n",
        "print(ABC[0:5:2])\n",
        "print(ABC[0:5:1])\n",
        "print(ABC[0:5:3])\n",
        "print(ABC[1:5:2])\n",
        "print(ABC[-5:-1:2])"
      ]
    },
    {
      "cell_type": "code",
      "source": [
        "#Functions is a set of data that will be executed whenever it is invoked or called\n",
        "#We use def for functions \n",
        "#Two examples of printing a set of data 5 times\n",
        "#The normal method without functions   \n",
        "A=\"Python\"\n",
        "print(A)\n",
        "print(A)\n",
        "print(A)\n",
        "print(A)\n",
        "print(A)\n",
        "#Example 2 with the usage of functions \n",
        "\n",
        "def C():\n",
        "  print(\"Java\")\n",
        "C()\n",
        "C()\n",
        "C()\n",
        "C()\n",
        "C()"
      ],
      "metadata": {
        "colab": {
          "base_uri": "https://localhost:8080/"
        },
        "id": "xtmexrzea0Vl",
        "outputId": "5a4e1198-3a3a-43e8-86a5-e1cac91d409b"
      },
      "execution_count": 15,
      "outputs": [
        {
          "output_type": "stream",
          "name": "stdout",
          "text": [
            "Python\n",
            "Python\n",
            "Python\n",
            "Python\n",
            "Python\n",
            "Java\n",
            "Java\n",
            "Java\n",
            "Java\n",
            "Java\n"
          ]
        }
      ]
    },
    {
      "cell_type": "code",
      "source": [
        "#For loop\n",
        "for i in range(5):\n",
        "  print(\"Java script\")"
      ],
      "metadata": {
        "colab": {
          "base_uri": "https://localhost:8080/"
        },
        "id": "l6uukIw_o6dJ",
        "outputId": "0a68688d-913e-47f7-b790-368a5cc33472"
      },
      "execution_count": 16,
      "outputs": [
        {
          "output_type": "stream",
          "name": "stdout",
          "text": [
            "Java script\n",
            "Java script\n",
            "Java script\n",
            "Java script\n",
            "Java script\n"
          ]
        }
      ]
    },
    {
      "cell_type": "code",
      "source": [
        "#Using For loop with a function \n",
        "def A():\n",
        "  for B in range(5):\n",
        "    print(\"Hello\")\n",
        "A()"
      ],
      "metadata": {
        "colab": {
          "base_uri": "https://localhost:8080/"
        },
        "id": "41j8O7s-qPAF",
        "outputId": "1b989dc8-1e71-40e5-a2eb-cc0b3e1b58ea"
      },
      "execution_count": 21,
      "outputs": [
        {
          "output_type": "stream",
          "name": "stdout",
          "text": [
            "Hello\n",
            "Hello\n",
            "Hello\n",
            "Hello\n",
            "Hello\n"
          ]
        }
      ]
    },
    {
      "cell_type": "code",
      "source": [
        "#Using Functions to print two different values or arguements \n",
        "def S(num1,num2):\n",
        "   print(\"The sum of the two numbers are\",(num1+num2))\n",
        "S(50,50)\n",
        "\n",
        "def AB(num1,num2):\n",
        "  print(\"The difference between the two numbers are\",(num1-num2))\n",
        "AB(300,200)\n",
        "\n",
        "def CD(num1,num2):\n",
        "  print(\"The product of two numbers are\",(num1*num2))\n",
        "CD(10,10)"
      ],
      "metadata": {
        "colab": {
          "base_uri": "https://localhost:8080/"
        },
        "id": "edlLz7oJrmfD",
        "outputId": "06360a4d-2bf4-453d-884e-9026423287aa"
      },
      "execution_count": 30,
      "outputs": [
        {
          "output_type": "stream",
          "name": "stdout",
          "text": [
            "The sum of the two numbers are 100\n",
            "The difference between the two numbers are 100\n",
            "The product of two numbers are 100\n"
          ]
        }
      ]
    },
    {
      "cell_type": "code",
      "source": [
        "#Using input with functions \n",
        "def W():\n",
        "  a=input(\"Enter a number here\")\n",
        "  b=input(\"Enter another number here\")\n",
        "  print(\"The sum of two numbers is\",(a+b))\n",
        "W()"
      ],
      "metadata": {
        "colab": {
          "base_uri": "https://localhost:8080/"
        },
        "id": "yJV-AH81xPi3",
        "outputId": "9960efb6-5f6b-4cf7-b037-47a6091052d3"
      },
      "execution_count": 34,
      "outputs": [
        {
          "output_type": "stream",
          "name": "stdout",
          "text": [
            "Enter a number here10\n",
            "Enter another number here10\n",
            "The sum of two numbers is 1010\n"
          ]
        }
      ]
    },
    {
      "cell_type": "code",
      "source": [
        "#Using integer with input and functions \n",
        "def AA():\n",
        "  a=int(input(\"Enter one number\"))\n",
        "  b=int(input(\"Enter another number\"))\n",
        "  print(\"The sum of two numbers is\",(a+b))\n",
        "AA()"
      ],
      "metadata": {
        "colab": {
          "base_uri": "https://localhost:8080/"
        },
        "id": "7sA-2dS9yjgR",
        "outputId": "f3cbec2c-d63f-4107-cc66-4698bc582d66"
      },
      "execution_count": 1,
      "outputs": [
        {
          "output_type": "stream",
          "name": "stdout",
          "text": [
            "Enter one number50\n",
            "Enter another number50\n",
            "The sum of two numbers is 100\n"
          ]
        }
      ]
    },
    {
      "cell_type": "code",
      "source": [
        "#Using functions with words and numbers \n",
        "def A(word,word1):\n",
        "  print(\"My name is\",word,word1)\n",
        "A(\"Omar\",\"Rahmon\")\n",
        "\n",
        "def B(title,number):\n",
        "  print(\"and my age is\",title,number)\n",
        "B(\"Nineteen or\",19)"
      ],
      "metadata": {
        "colab": {
          "base_uri": "https://localhost:8080/"
        },
        "id": "_5TKY56WP8f2",
        "outputId": "85031000-1b4d-4a7f-e3cd-0972e114978a"
      },
      "execution_count": 6,
      "outputs": [
        {
          "output_type": "stream",
          "name": "stdout",
          "text": [
            "My name is Omar Rahmon\n",
            "and my age is Nineteen or 19\n"
          ]
        }
      ]
    },
    {
      "cell_type": "code",
      "source": [
        "#Concatination with input from users but values cannot be added or subtracted \n",
        "def A():\n",
        "   a= input(\"What is your name\")\n",
        "   b= input(\"Which class do you belong to\")\n",
        "   c= input(\"What is your age\")\n",
        "   print(\"My name is\",(a),\"And i belong to section\",(b),\"My age is\",(c))\n",
        "A()"
      ],
      "metadata": {
        "colab": {
          "base_uri": "https://localhost:8080/"
        },
        "id": "6W-UUPwTRGoU",
        "outputId": "67d9dd26-fcfb-494b-be7c-b8e0d870a155"
      },
      "execution_count": 15,
      "outputs": [
        {
          "output_type": "stream",
          "name": "stdout",
          "text": [
            "What is your name Omar \n",
            "Which class do you belong to A\n",
            "What is your age 19\n",
            "My name is  Omar  And i belong to section  A My age is  19\n"
          ]
        }
      ]
    },
    {
      "cell_type": "code",
      "source": [
        "#Using for loop with tuple,list, we us for Variable in Old variable\n",
        "A={\"A\",\"B\",\"c\",\"D\",\"E\",\"F\",\"G\",\"H\"}\n",
        "for a in A:\n",
        "  print(a)"
      ],
      "metadata": {
        "colab": {
          "base_uri": "https://localhost:8080/"
        },
        "id": "NG0xODmEQdMs",
        "outputId": "5204a66e-bbee-46ab-921f-7f41d1367742"
      },
      "execution_count": 17,
      "outputs": [
        {
          "output_type": "stream",
          "name": "stdout",
          "text": [
            "E\n",
            "D\n",
            "A\n",
            "H\n",
            "F\n",
            "G\n",
            "c\n",
            "B\n"
          ]
        }
      ]
    },
    {
      "cell_type": "code",
      "source": [
        "#Using for loop with list\n",
        "A=[\"A\",\"B\",\"c\",\"D\",\"E\",\"F\",\"G\",\"H\"]\n",
        "for a in A:\n",
        "  print(a)"
      ],
      "metadata": {
        "colab": {
          "base_uri": "https://localhost:8080/"
        },
        "id": "Me8pKbq4WHDH",
        "outputId": "dc236582-599d-4173-8c85-83d160f398b1"
      },
      "execution_count": 18,
      "outputs": [
        {
          "output_type": "stream",
          "name": "stdout",
          "text": [
            "A\n",
            "B\n",
            "c\n",
            "D\n",
            "E\n",
            "F\n",
            "G\n",
            "H\n"
          ]
        }
      ]
    },
    {
      "cell_type": "code",
      "source": [],
      "metadata": {
        "id": "m_vzVmr4P7Jx"
      },
      "execution_count": null,
      "outputs": []
    }
  ]
}